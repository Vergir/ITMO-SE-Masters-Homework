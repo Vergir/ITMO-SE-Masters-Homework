{
  "nbformat": 4,
  "nbformat_minor": 0,
  "metadata": {
    "colab": {
      "name": "onto4.ipynb",
      "version": "0.3.2",
      "provenance": [],
      "collapsed_sections": [],
      "toc_visible": true
    },
    "kernelspec": {
      "name": "python3",
      "display_name": "Python 3"
    }
  },
  "cells": [
    {
      "cell_type": "code",
      "metadata": {
        "id": "q_nnjF-aiowp",
        "colab_type": "code",
        "colab": {
          "base_uri": "https://localhost:8080/",
          "height": 86
        },
        "outputId": "736c26b1-f883-4085-9fda-7b9c27f94107"
      },
      "source": [
        "!pip install rdflib"
      ],
      "execution_count": 177,
      "outputs": [
        {
          "output_type": "stream",
          "text": [
            "Requirement already satisfied: rdflib in /usr/local/lib/python3.6/dist-packages (4.2.2)\n",
            "Requirement already satisfied: pyparsing in /usr/local/lib/python3.6/dist-packages (from rdflib) (2.4.0)\n",
            "Requirement already satisfied: isodate in /usr/local/lib/python3.6/dist-packages (from rdflib) (0.6.0)\n",
            "Requirement already satisfied: six in /usr/local/lib/python3.6/dist-packages (from isodate->rdflib) (1.12.0)\n"
          ],
          "name": "stdout"
        }
      ]
    },
    {
      "cell_type": "code",
      "metadata": {
        "id": "4lmC8qiFKIm9",
        "colab_type": "code",
        "colab": {}
      },
      "source": [
        "import csv\n",
        "import pprint\n",
        "import random\n",
        "import rdflib"
      ],
      "execution_count": 0,
      "outputs": []
    },
    {
      "cell_type": "code",
      "metadata": {
        "id": "g7VhZs8YgS0j",
        "colab_type": "code",
        "colab": {}
      },
      "source": [
        "INPUT_FILENAME = 'games.csv'\n",
        "RDF_FILENAME = 'games.rdf'\n",
        "\n",
        "# properties\n",
        "_DBP_URI = 'dbp_uri'\n",
        "_NAME = 'name'\n",
        "_DEVELOPER = 'developer'\n",
        "_PUBLISHER = 'publisher'\n",
        "_RELEASE_DATE = 'release_date'\n",
        "_HOMEPAGE = 'homepage'\n",
        "_MODE = 'mode'\n",
        "_IGN = 'ign'\n",
        "_MC = 'metacritic'"
      ],
      "execution_count": 0,
      "outputs": []
    },
    {
      "cell_type": "markdown",
      "metadata": {
        "id": "ILJZfm1bW3Ty",
        "colab_type": "text"
      },
      "source": [
        "#1. Make DB"
      ]
    },
    {
      "cell_type": "code",
      "metadata": {
        "id": "XJm2id7IKext",
        "colab_type": "code",
        "outputId": "d82b243c-4995-412f-b511-03828bf076af",
        "colab": {
          "base_uri": "https://localhost:8080/",
          "height": 816
        }
      },
      "source": [
        "INPUT_FILENAME = 'games.csv'\n",
        "\n",
        "data = []\n",
        "\n",
        "with open(INPUT_FILENAME, 'r', encoding='utf-8') as file:\n",
        "  reader = csv.reader(file, delimiter=',', quotechar='\"')\n",
        "  headers = next(reader)\n",
        "  for row in reader:\n",
        "    data.append(dict(zip(headers, row)))\n",
        "    \n",
        "print(len(data))\n",
        "pprint.pprint(data[:5])"
      ],
      "execution_count": 180,
      "outputs": [
        {
          "output_type": "stream",
          "text": [
            "1093\n",
            "[{'dbp_uri': 'http://dbpedia.org/resource/Kingdom_Hearts_HD_1.5_Remix',\n",
            "  'developer': 'http://dbpedia.org/resource/Square_Enix',\n",
            "  'homepage': 'http://www.square-enix.co.jp/kingdom/khhd/',\n",
            "  'ign': '85.0',\n",
            "  'metacritic': '77',\n",
            "  'mode': 'http://dbpedia.org/resource/Single-player_video_game',\n",
            "  'name': 'Kingdom Hearts HD 1.5 Remix',\n",
            "  'publisher': 'http://dbpedia.org/resource/Square_Enix',\n",
            "  'release_date': '2013-03-14'},\n",
            " {'dbp_uri': 'http://dbpedia.org/resource/Project_Zero_2:_Wii_Edition',\n",
            "  'developer': 'http://dbpedia.org/resource/Koei_Tecmo',\n",
            "  'homepage': 'http://www.nintendo.co.jp/wii/sl2j/index.html',\n",
            "  'ign': '85.0',\n",
            "  'metacritic': '77',\n",
            "  'mode': 'http://dbpedia.org/resource/Single-player_video_game',\n",
            "  'name': 'Project Zero 2: Wii Edition',\n",
            "  'publisher': 'http://dbpedia.org/resource/Nintendo',\n",
            "  'release_date': '2012-06-28'},\n",
            " {'dbp_uri': 'http://dbpedia.org/resource/Planet_Minigolf',\n",
            "  'developer': 'http://dbpedia.org/resource/Zen_Studios',\n",
            "  'homepage': 'http://planetminigolf.com/',\n",
            "  'ign': '65.0',\n",
            "  'metacritic': '66',\n",
            "  'mode': 'http://dbpedia.org/resource/Multiplayer',\n",
            "  'name': 'Planet Minigolf',\n",
            "  'publisher': 'http://dbpedia.org/resource/Sony_Computer_Entertainment',\n",
            "  'release_date': '2010-06-01'},\n",
            " {'dbp_uri': 'http://dbpedia.org/resource/From_Dust',\n",
            "  'developer': 'http://dbpedia.org/resource/Ubisoft_Montpellier',\n",
            "  'homepage': 'http://fromdustgame.com',\n",
            "  'ign': '85.0',\n",
            "  'metacritic': '76',\n",
            "  'mode': 'http://dbpedia.org/resource/Single-player_video_game',\n",
            "  'name': 'From Dust',\n",
            "  'publisher': 'http://dbpedia.org/resource/Ubisoft',\n",
            "  'release_date': '2011-07-27'},\n",
            " {'dbp_uri': 'http://dbpedia.org/resource/Naruto:_Rise_of_a_Ninja',\n",
            "  'developer': 'http://dbpedia.org/resource/Ubisoft_Montreal',\n",
            "  'homepage': 'https://web.archive.org/web/20070523115324/http:/www.narutoxbox360game.com/',\n",
            "  'ign': '82.0',\n",
            "  'metacritic': '78',\n",
            "  'mode': 'http://dbpedia.org/resource/Multiplayer_video_game',\n",
            "  'name': 'Naruto: Rise of a Ninja',\n",
            "  'publisher': 'http://dbpedia.org/resource/Ubisoft',\n",
            "  'release_date': '2007-10-30'}]\n"
          ],
          "name": "stdout"
        }
      ]
    },
    {
      "cell_type": "code",
      "metadata": {
        "id": "H6xlAsObKbQH",
        "colab_type": "code",
        "outputId": "a93558b4-2fd0-45e8-ec56-de3141a6dda5",
        "colab": {
          "base_uri": "https://localhost:8080/",
          "height": 451
        }
      },
      "source": [
        "lines = [\n",
        "  '@prefix rdfs: <http://www.w3.org/2000/01/rdf-schema#>',\n",
        "  '@prefix dbo: <http://dbpedia.org/ontology/>',\n",
        "  '@prefix dbr: <http://dbpedia.org/resource/>',\n",
        "  '@prefix dbp: <http://dbpedia.org/property/>',\n",
        "  '@prefix owl: <http://www.w3.org/2002/07/owl#>',\n",
        "  '@prefix xsd: <http://www.w3.org/2001/XMLSchema#>',\n",
        "]\n",
        "lines.append('@prefix best: <http://thebestontology.com/>')\n",
        "\n",
        "for game in data:\n",
        "    game_uri = f'<http://thebestontology.com/{game[_NAME].replace(\" \", \"_\")}>'\n",
        "    \n",
        "    lines.append(f'{game_uri} owl:sameAs <{game[_DBP_URI]}>')\n",
        "    lines.append(f'{game_uri} rdfs:label \"{game[_NAME]}\"@en')\n",
        "\n",
        "    lines.append(f'{game_uri} dbo:developer <{game[_DEVELOPER]}>')\n",
        "    lines.append(f'{game_uri} dbo:publisher <{game[_PUBLISHER]}>')\n",
        "    lines.append(f'{game_uri} dbo:releaseDate \"{game[_RELEASE_DATE]}\"^^xsd:date')\n",
        "    lines.append(f'{game_uri} dbp:modes <{game[_MODE]}>')\n",
        "    lines.append(f'{game_uri} dbp:ign {round(float(game[_IGN]))}')\n",
        "    lines.append(f'{game_uri} dbp:mc {game[_MC]}')\n",
        "    \n",
        "    best_score = random.randint(1, 100)\n",
        "    lines.append(f'{game_uri} best:score {best_score}')\n",
        "\n",
        "for line in lines[:25]:\n",
        "  print(line)"
      ],
      "execution_count": 181,
      "outputs": [
        {
          "output_type": "stream",
          "text": [
            "@prefix rdfs: <http://www.w3.org/2000/01/rdf-schema#>\n",
            "@prefix dbo: <http://dbpedia.org/ontology/>\n",
            "@prefix dbr: <http://dbpedia.org/resource/>\n",
            "@prefix dbp: <http://dbpedia.org/property/>\n",
            "@prefix owl: <http://www.w3.org/2002/07/owl#>\n",
            "@prefix xsd: <http://www.w3.org/2001/XMLSchema#>\n",
            "@prefix best: <http://thebestontology.com/>\n",
            "<http://thebestontology.com/Kingdom_Hearts_HD_1.5_Remix> owl:sameAs <http://dbpedia.org/resource/Kingdom_Hearts_HD_1.5_Remix>\n",
            "<http://thebestontology.com/Kingdom_Hearts_HD_1.5_Remix> rdfs:label \"Kingdom Hearts HD 1.5 Remix\"@en\n",
            "<http://thebestontology.com/Kingdom_Hearts_HD_1.5_Remix> dbo:developer <http://dbpedia.org/resource/Square_Enix>\n",
            "<http://thebestontology.com/Kingdom_Hearts_HD_1.5_Remix> dbo:publisher <http://dbpedia.org/resource/Square_Enix>\n",
            "<http://thebestontology.com/Kingdom_Hearts_HD_1.5_Remix> dbo:releaseDate \"2013-03-14\"^^xsd:date\n",
            "<http://thebestontology.com/Kingdom_Hearts_HD_1.5_Remix> dbp:modes <http://dbpedia.org/resource/Single-player_video_game>\n",
            "<http://thebestontology.com/Kingdom_Hearts_HD_1.5_Remix> dbp:ign 85\n",
            "<http://thebestontology.com/Kingdom_Hearts_HD_1.5_Remix> dbp:mc 77\n",
            "<http://thebestontology.com/Kingdom_Hearts_HD_1.5_Remix> best:score 73\n",
            "<http://thebestontology.com/Project_Zero_2:_Wii_Edition> owl:sameAs <http://dbpedia.org/resource/Project_Zero_2:_Wii_Edition>\n",
            "<http://thebestontology.com/Project_Zero_2:_Wii_Edition> rdfs:label \"Project Zero 2: Wii Edition\"@en\n",
            "<http://thebestontology.com/Project_Zero_2:_Wii_Edition> dbo:developer <http://dbpedia.org/resource/Koei_Tecmo>\n",
            "<http://thebestontology.com/Project_Zero_2:_Wii_Edition> dbo:publisher <http://dbpedia.org/resource/Nintendo>\n",
            "<http://thebestontology.com/Project_Zero_2:_Wii_Edition> dbo:releaseDate \"2012-06-28\"^^xsd:date\n",
            "<http://thebestontology.com/Project_Zero_2:_Wii_Edition> dbp:modes <http://dbpedia.org/resource/Single-player_video_game>\n",
            "<http://thebestontology.com/Project_Zero_2:_Wii_Edition> dbp:ign 85\n",
            "<http://thebestontology.com/Project_Zero_2:_Wii_Edition> dbp:mc 77\n",
            "<http://thebestontology.com/Project_Zero_2:_Wii_Edition> best:score 3\n"
          ],
          "name": "stdout"
        }
      ]
    },
    {
      "cell_type": "code",
      "metadata": {
        "id": "2gcaqRmjTyrA",
        "colab_type": "code",
        "outputId": "c0bfaf23-afa3-405a-b135-a68e4b26b54b",
        "colab": {
          "base_uri": "https://localhost:8080/",
          "height": 260
        }
      },
      "source": [
        "terminated_lines = [line+' .\\n' for line in lines ]\n",
        "\n",
        "rdf = ''.join(terminated_lines) + '\\n'\n",
        "with open(RDF_FILENAME, 'w') as file:\n",
        "  file.write(rdf)\n",
        "  \n",
        "!ls -l\n",
        "\n",
        "print(rdf[:500])"
      ],
      "execution_count": 182,
      "outputs": [
        {
          "output_type": "stream",
          "text": [
            "total 2104\n",
            "-rw-r--r-- 1 root root 305550 May 31 09:36 games.csv\n",
            "-rw-r--r-- 1 root root 919424 May 31 15:10 games.rdf\n",
            "drwxr-xr-x 1 root root   4096 May 24 16:08 sample_data\n",
            "-rw-r--r-- 1 root root 919424 May 31 12:23 test\n",
            "@prefix rdfs: <http://www.w3.org/2000/01/rdf-schema#> .\n",
            "@prefix dbo: <http://dbpedia.org/ontology/> .\n",
            "@prefix dbr: <http://dbpedia.org/resource/> .\n",
            "@prefix dbp: <http://dbpedia.org/property/> .\n",
            "@prefix owl: <http://www.w3.org/2002/07/owl#> .\n",
            "@prefix xsd: <http://www.w3.org/2001/XMLSchema#> .\n",
            "@prefix best: <http://thebestontology.com/> .\n",
            "<http://thebestontology.com/Kingdom_Hearts_HD_1.5_Remix> owl:sameAs <http://dbpedia.org/resource/Kingdom_Hearts_HD_1.5_Remix> .\n",
            "<http://thebestontology.com/Kingd\n"
          ],
          "name": "stdout"
        }
      ]
    },
    {
      "cell_type": "markdown",
      "metadata": {
        "id": "V1IGGIVCW9c3",
        "colab_type": "text"
      },
      "source": [
        "#2. Query"
      ]
    },
    {
      "cell_type": "code",
      "metadata": {
        "id": "JZnJY_b7ikvE",
        "colab_type": "code",
        "outputId": "b17f9f4b-bb5e-4f16-96b4-3925c46c8478",
        "colab": {
          "base_uri": "https://localhost:8080/",
          "height": 34
        }
      },
      "source": [
        "graph = rdflib.Graph()\n",
        "graph.parse(RDF_FILENAME, format='n3')"
      ],
      "execution_count": 183,
      "outputs": [
        {
          "output_type": "execute_result",
          "data": {
            "text/plain": [
              "<Graph identifier=Ncb3fec0fbd4a4c568b365229eceae0ed (<class 'rdflib.graph.Graph'>)>"
            ]
          },
          "metadata": {
            "tags": []
          },
          "execution_count": 183
        }
      ]
    },
    {
      "cell_type": "code",
      "metadata": {
        "id": "o_U87F4jiguT",
        "colab_type": "code",
        "outputId": "0e82c203-a975-410a-8168-94b6e80290f8",
        "colab": {
          "base_uri": "https://localhost:8080/",
          "height": 225
        }
      },
      "source": [
        "query = \"\"\"SELECT ?game ?name\n",
        "WHERE {\n",
        "?game rdfs:label ?name .\n",
        "}\n",
        "LIMIT 10\n",
        "\"\"\"\n",
        "\n",
        "query_result = graph.query(query)\n",
        "\n",
        "last_row = None\n",
        "for row in query_result:\n",
        "  last_row = row\n",
        "  print(f'{row[0]} | {row[1]}')\n",
        "\n",
        "print()\n",
        "print(last_row)"
      ],
      "execution_count": 184,
      "outputs": [
        {
          "output_type": "stream",
          "text": [
            "http://thebestontology.com/PlayStation_All-Stars_Battle_Royale | PlayStation All-Stars Battle Royale\n",
            "http://thebestontology.com/Burn_Zombie_Burn | Burn Zombie Burn\n",
            "http://thebestontology.com/Tiger_Woods_PGA_Tour_10 | Tiger Woods PGA Tour 10\n",
            "http://thebestontology.com/Sly_3:_Honor_Among_Thieves | Sly 3: Honor Among Thieves\n",
            "http://thebestontology.com/Onimusha_2:_Samurai's_Destiny | Onimusha 2: Samurai's Destiny\n",
            "http://thebestontology.com/WinBack_2:_Project_Poseidon | WinBack 2: Project Poseidon\n",
            "http://thebestontology.com/The_Temple_of_Elemental_Evil_(video_game) | The Temple of Elemental Evil (video game)\n",
            "http://thebestontology.com/The_Amazing_Spider-Man_2_(2014_video_game) | The Amazing Spider-Man 2 (2014 video game)\n",
            "http://thebestontology.com/Lost_in_Blue | Lost in Blue\n",
            "http://thebestontology.com/Mass_Effect_(video_game) | Mass Effect (video game)\n",
            "\n",
            "(rdflib.term.URIRef('http://thebestontology.com/Mass_Effect_(video_game)'), rdflib.term.Literal('Mass Effect (video game)', lang='en'))\n"
          ],
          "name": "stdout"
        }
      ]
    },
    {
      "cell_type": "code",
      "metadata": {
        "id": "xIuor8fb37rk",
        "colab_type": "code",
        "outputId": "f63de6d3-d245-4658-8763-3685c4043d22",
        "colab": {
          "base_uri": "https://localhost:8080/",
          "height": 191
        }
      },
      "source": [
        "query = \"\"\"SELECT ?name ?ign ?metacritic\n",
        "WHERE {\n",
        "?game rdfs:label ?name .\n",
        "?game dbp:ign ?ign .\n",
        "?game dbp:mc ?metacritic .\n",
        "?game dbo:releaseDate ?date\n",
        "FILTER (?ign >= 90) .\n",
        "FILTER (?metacritic >= 90) .\n",
        "}\n",
        "LIMIT 10\n",
        "\"\"\"\n",
        "\n",
        "query_result = graph.query(query)\n",
        "\n",
        "for row in query_result:\n",
        "  print(f'{row[0]} | Score: {row[1]}')"
      ],
      "execution_count": 185,
      "outputs": [
        {
          "output_type": "stream",
          "text": [
            "World of Warcraft | Score: 91\n",
            "Uncharted 2: Among Thieves | Score: 95\n",
            "Pushmo | Score: 95\n",
            "LittleBigPlanet 2 | Score: 90\n",
            "Section 8 (video game) | Score: 3600\n",
            "Ratchet & Clank: Up Your Arsenal | Score: 96\n",
            "Metal Gear Solid HD Collection | Score: 90\n",
            "Gears of War 2 | Score: 95\n",
            "ESPN NFL 2K5 | Score: 93\n",
            "Bloodborne | Score: 91\n"
          ],
          "name": "stdout"
        }
      ]
    }
  ]
}