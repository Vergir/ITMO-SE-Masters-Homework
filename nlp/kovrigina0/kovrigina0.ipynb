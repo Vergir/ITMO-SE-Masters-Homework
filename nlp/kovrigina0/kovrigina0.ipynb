{
  "nbformat": 4,
  "nbformat_minor": 0,
  "metadata": {
    "colab": {
      "name": "kovrigina0.ipynb",
      "version": "0.3.2",
      "provenance": [],
      "collapsed_sections": []
    },
    "kernelspec": {
      "name": "python3",
      "display_name": "Python 3"
    }
  },
  "cells": [
    {
      "cell_type": "code",
      "metadata": {
        "id": "QzmXEDL8UsFM",
        "colab_type": "code",
        "colab": {
          "base_uri": "https://localhost:8080/",
          "height": 69
        },
        "outputId": "d78729b9-a6f7-4387-b171-ffd75f930d9e"
      },
      "source": [
        "import re\n",
        "import nltk\n",
        "nltk.download('punkt')"
      ],
      "execution_count": 41,
      "outputs": [
        {
          "output_type": "stream",
          "text": [
            "[nltk_data] Downloading package punkt to /root/nltk_data...\n",
            "[nltk_data]   Package punkt is already up-to-date!\n"
          ],
          "name": "stdout"
        },
        {
          "output_type": "execute_result",
          "data": {
            "text/plain": [
              "True"
            ]
          },
          "metadata": {
            "tags": []
          },
          "execution_count": 41
        }
      ]
    },
    {
      "cell_type": "code",
      "metadata": {
        "id": "Qyclfh_RVAUP",
        "colab_type": "code",
        "colab": {
          "base_uri": "https://localhost:8080/",
          "height": 506
        },
        "outputId": "0e12145d-e852-45f3-b09f-86add66dd54f"
      },
      "source": [
        "FILENAME = 'text.txt'\n",
        "\n",
        "file = open(filename, 'rt')\n",
        "text = file.read()\n",
        "file.close()\n",
        "\n",
        "formatted_text = text\n",
        "print(formatted_text)"
      ],
      "execution_count": 42,
      "outputs": [
        {
          "output_type": "stream",
          "text": [
            "\\title{A Sample Research Paper}\n",
            "\\author{I.M. Great and So.R. Yu}\n",
            "\\affiliation{\n",
            "Department of Physics and Astronomy,\n",
            "University of Pittsburgh,\n",
            "Pittsburgh, PA 15260,\n",
            "USA.}\n",
            "\n",
            "\\begin{abstract}\n",
            "An abstract is a great convenience for the reader and is required by all journals.\n",
            "\\end{abstract}\n",
            "\\pacs{PACS numbers go here. These are classification codes for your  research. See {\\tt http://publish.aps.org/PACS/} for more info.}\n",
            "\\maketitle\n",
            "\n",
            "\\section{Introduction}\n",
            "\n",
            "Using latex is pretty easy if you have a sample document you can follow.\n",
            "\n",
            "\\section{Results}\n",
            "Including figures, tables, and equations is easy. Latex also permits easy reference to document elements (figures, tables, sections) with the \\begin{verbatim}\\ref\\end{verbatim} command\\ref{fig1}. Citations are made with the \\begin{verbatim}\\cite\\end{verbatim} command\\cite{lamport}. \n",
            "\n",
            "\\begin{figure}[ht]\n",
            "\\includegraphics[width=7cm,angle=-90]{linear_q_eq_0.ps}\n",
            "\\caption{You will need to include the package graphicx to be able to make figures like this.}\n",
            "\\label{fig1}\n",
            "\\end{figure}\n",
            "\n"
          ],
          "name": "stdout"
        }
      ]
    },
    {
      "cell_type": "code",
      "metadata": {
        "id": "aHC5dnOkY9VG",
        "colab_type": "code",
        "colab": {
          "base_uri": "https://localhost:8080/",
          "height": 506
        },
        "outputId": "b81839d3-74d3-47c5-ee6b-4caf5a79ecf4"
      },
      "source": [
        "#@title replace \\begin & \\end blocks with contents\n",
        "formatted_text = re.sub(r\"\\\\begin{(.*?)}(.*?)\\\\end{(.*?)}\", r\"\\2\", formatted_text, flags=re.M | re.S)\n",
        "print(formatted_text)"
      ],
      "execution_count": 43,
      "outputs": [
        {
          "output_type": "stream",
          "text": [
            "\\title{A Sample Research Paper}\n",
            "\\author{I.M. Great and So.R. Yu}\n",
            "\\affiliation{\n",
            "Department of Physics and Astronomy,\n",
            "University of Pittsburgh,\n",
            "Pittsburgh, PA 15260,\n",
            "USA.}\n",
            "\n",
            "\n",
            "An abstract is a great convenience for the reader and is required by all journals.\n",
            "\n",
            "\\pacs{PACS numbers go here. These are classification codes for your  research. See {\\tt http://publish.aps.org/PACS/} for more info.}\n",
            "\\maketitle\n",
            "\n",
            "\\section{Introduction}\n",
            "\n",
            "Using latex is pretty easy if you have a sample document you can follow.\n",
            "\n",
            "\\section{Results}\n",
            "Including figures, tables, and equations is easy. Latex also permits easy reference to document elements (figures, tables, sections) with the \\ref command\\ref{fig1}. Citations are made with the \\cite command\\cite{lamport}. \n",
            "\n",
            "[ht]\n",
            "\\includegraphics[width=7cm,angle=-90]{linear_q_eq_0.ps}\n",
            "\\caption{You will need to include the package graphicx to be able to make figures like this.}\n",
            "\\label{fig1}\n",
            "\n",
            "\n"
          ],
          "name": "stdout"
        }
      ]
    },
    {
      "cell_type": "code",
      "metadata": {
        "id": "IUdIB6Pnc5P_",
        "colab_type": "code",
        "colab": {
          "base_uri": "https://localhost:8080/",
          "height": 506
        },
        "outputId": "9d68215f-f208-453b-eb91-4c0448d10e36"
      },
      "source": [
        "#@title replace \\tt links with url\n",
        "formatted_text = re.sub(r\"{\\\\tt (.*?)}\", r\"\\1\", formatted_text, flags=re.M | re.S)\n",
        "print(formatted_text)"
      ],
      "execution_count": 44,
      "outputs": [
        {
          "output_type": "stream",
          "text": [
            "\\title{A Sample Research Paper}\n",
            "\\author{I.M. Great and So.R. Yu}\n",
            "\\affiliation{\n",
            "Department of Physics and Astronomy,\n",
            "University of Pittsburgh,\n",
            "Pittsburgh, PA 15260,\n",
            "USA.}\n",
            "\n",
            "\n",
            "An abstract is a great convenience for the reader and is required by all journals.\n",
            "\n",
            "\\pacs{PACS numbers go here. These are classification codes for your  research. See http://publish.aps.org/PACS/ for more info.}\n",
            "\\maketitle\n",
            "\n",
            "\\section{Introduction}\n",
            "\n",
            "Using latex is pretty easy if you have a sample document you can follow.\n",
            "\n",
            "\\section{Results}\n",
            "Including figures, tables, and equations is easy. Latex also permits easy reference to document elements (figures, tables, sections) with the \\ref command\\ref{fig1}. Citations are made with the \\cite command\\cite{lamport}. \n",
            "\n",
            "[ht]\n",
            "\\includegraphics[width=7cm,angle=-90]{linear_q_eq_0.ps}\n",
            "\\caption{You will need to include the package graphicx to be able to make figures like this.}\n",
            "\\label{fig1}\n",
            "\n",
            "\n"
          ],
          "name": "stdout"
        }
      ]
    },
    {
      "cell_type": "code",
      "metadata": {
        "id": "z-uKyi16fLWV",
        "colab_type": "code",
        "colab": {
          "base_uri": "https://localhost:8080/",
          "height": 506
        },
        "outputId": "ed631243-f5d6-4e24-ed71-52e5ffeb3fcb"
      },
      "source": [
        "#@title replace \\section with section names\n",
        "formatted_text = re.sub(r\"\\\\section{(.*?)}\", r\"\\1.\", formatted_text, flags=re.M | re.S)\n",
        "print(formatted_text)"
      ],
      "execution_count": 45,
      "outputs": [
        {
          "output_type": "stream",
          "text": [
            "\\title{A Sample Research Paper}\n",
            "\\author{I.M. Great and So.R. Yu}\n",
            "\\affiliation{\n",
            "Department of Physics and Astronomy,\n",
            "University of Pittsburgh,\n",
            "Pittsburgh, PA 15260,\n",
            "USA.}\n",
            "\n",
            "\n",
            "An abstract is a great convenience for the reader and is required by all journals.\n",
            "\n",
            "\\pacs{PACS numbers go here. These are classification codes for your  research. See http://publish.aps.org/PACS/ for more info.}\n",
            "\\maketitle\n",
            "\n",
            "Introduction.\n",
            "\n",
            "Using latex is pretty easy if you have a sample document you can follow.\n",
            "\n",
            "Results.\n",
            "Including figures, tables, and equations is easy. Latex also permits easy reference to document elements (figures, tables, sections) with the \\ref command\\ref{fig1}. Citations are made with the \\cite command\\cite{lamport}. \n",
            "\n",
            "[ht]\n",
            "\\includegraphics[width=7cm,angle=-90]{linear_q_eq_0.ps}\n",
            "\\caption{You will need to include the package graphicx to be able to make figures like this.}\n",
            "\\label{fig1}\n",
            "\n",
            "\n"
          ],
          "name": "stdout"
        }
      ]
    },
    {
      "cell_type": "code",
      "metadata": {
        "id": "dgEF3PG6gHFm",
        "colab_type": "code",
        "colab": {
          "base_uri": "https://localhost:8080/",
          "height": 506
        },
        "outputId": "9a83ed1f-c0d9-4906-9d57-9dc9d00905fe"
      },
      "source": [
        "#@title delete redundant tags\n",
        "formatted_text = re.sub(r\"(\\\\ref{.*?}|\\[ht\\]|\\\\maketitle|\\\\includegraphics.*?})\", r\"\", formatted_text, flags=re.M | re.S)\n",
        "print(formatted_text)"
      ],
      "execution_count": 46,
      "outputs": [
        {
          "output_type": "stream",
          "text": [
            "\\title{A Sample Research Paper}\n",
            "\\author{I.M. Great and So.R. Yu}\n",
            "\\affiliation{\n",
            "Department of Physics and Astronomy,\n",
            "University of Pittsburgh,\n",
            "Pittsburgh, PA 15260,\n",
            "USA.}\n",
            "\n",
            "\n",
            "An abstract is a great convenience for the reader and is required by all journals.\n",
            "\n",
            "\\pacs{PACS numbers go here. These are classification codes for your  research. See http://publish.aps.org/PACS/ for more info.}\n",
            "\n",
            "\n",
            "Introduction.\n",
            "\n",
            "Using latex is pretty easy if you have a sample document you can follow.\n",
            "\n",
            "Results.\n",
            "Including figures, tables, and equations is easy. Latex also permits easy reference to document elements (figures, tables, sections) with the \\ref command. Citations are made with the \\cite command\\cite{lamport}. \n",
            "\n",
            "\n",
            "\n",
            "\\caption{You will need to include the package graphicx to be able to make figures like this.}\n",
            "\\label{fig1}\n",
            "\n",
            "\n"
          ],
          "name": "stdout"
        }
      ]
    },
    {
      "cell_type": "code",
      "metadata": {
        "id": "UojqgNVcgtN9",
        "colab_type": "code",
        "colab": {
          "base_uri": "https://localhost:8080/",
          "height": 506
        },
        "outputId": "27e84b01-1ef0-45c5-bc7a-a9ac1fde34ec"
      },
      "source": [
        "#@title replace all other tags as tag_name: tag_content\n",
        "formatted_text = re.sub(r\"\\\\(.*?){(.*?)}\", r\"\\1: \\2\", formatted_text, flags=re.M | re.S)\n",
        "print(formatted_text)"
      ],
      "execution_count": 47,
      "outputs": [
        {
          "output_type": "stream",
          "text": [
            "title: A Sample Research Paper\n",
            "author: I.M. Great and So.R. Yu\n",
            "affiliation: \n",
            "Department of Physics and Astronomy,\n",
            "University of Pittsburgh,\n",
            "Pittsburgh, PA 15260,\n",
            "USA.\n",
            "\n",
            "\n",
            "An abstract is a great convenience for the reader and is required by all journals.\n",
            "\n",
            "pacs: PACS numbers go here. These are classification codes for your  research. See http://publish.aps.org/PACS/ for more info.\n",
            "\n",
            "\n",
            "Introduction.\n",
            "\n",
            "Using latex is pretty easy if you have a sample document you can follow.\n",
            "\n",
            "Results.\n",
            "Including figures, tables, and equations is easy. Latex also permits easy reference to document elements (figures, tables, sections) with the ref command. Citations are made with the \\cite command\\cite: lamport. \n",
            "\n",
            "\n",
            "\n",
            "caption: You will need to include the package graphicx to be able to make figures like this.\n",
            "label: fig1\n",
            "\n",
            "\n"
          ],
          "name": "stdout"
        }
      ]
    },
    {
      "cell_type": "code",
      "metadata": {
        "id": "6iFl6KkahYIJ",
        "colab_type": "code",
        "colab": {
          "base_uri": "https://localhost:8080/",
          "height": 54
        },
        "outputId": "73781883-787f-45d0-ac89-09b6b5c0ab78"
      },
      "source": [
        "formatted_text = formatted_text.replace('\\n', ' ')\n",
        "print(formatted_text)"
      ],
      "execution_count": 48,
      "outputs": [
        {
          "output_type": "stream",
          "text": [
            "title: A Sample Research Paper author: I.M. Great and So.R. Yu affiliation:  Department of Physics and Astronomy, University of Pittsburgh, Pittsburgh, PA 15260, USA.   An abstract is a great convenience for the reader and is required by all journals.  pacs: PACS numbers go here. These are classification codes for your  research. See http://publish.aps.org/PACS/ for more info.   Introduction.  Using latex is pretty easy if you have a sample document you can follow.  Results. Including figures, tables, and equations is easy. Latex also permits easy reference to document elements (figures, tables, sections) with the ref command. Citations are made with the \\cite command\\cite: lamport.     caption: You will need to include the package graphicx to be able to make figures like this. label: fig1  \n"
          ],
          "name": "stdout"
        }
      ]
    },
    {
      "cell_type": "code",
      "metadata": {
        "id": "aJkTKsRAY2pK",
        "colab_type": "code",
        "colab": {
          "base_uri": "https://localhost:8080/",
          "height": 54
        },
        "outputId": "9d3f4de7-b6da-4c48-acde-d6b0aab1957f"
      },
      "source": [
        "# токенизация\n",
        "tokens = nltk.tokenize.word_tokenize(formatted_text)\n",
        "#выводим все словоупотребления в тексте:\n",
        "print(tokens)"
      ],
      "execution_count": 49,
      "outputs": [
        {
          "output_type": "stream",
          "text": [
            "['title', ':', 'A', 'Sample', 'Research', 'Paper', 'author', ':', 'I.M', '.', 'Great', 'and', 'So.R', '.', 'Yu', 'affiliation', ':', 'Department', 'of', 'Physics', 'and', 'Astronomy', ',', 'University', 'of', 'Pittsburgh', ',', 'Pittsburgh', ',', 'PA', '15260', ',', 'USA', '.', 'An', 'abstract', 'is', 'a', 'great', 'convenience', 'for', 'the', 'reader', 'and', 'is', 'required', 'by', 'all', 'journals', '.', 'pacs', ':', 'PACS', 'numbers', 'go', 'here', '.', 'These', 'are', 'classification', 'codes', 'for', 'your', 'research', '.', 'See', 'http', ':', '//publish.aps.org/PACS/', 'for', 'more', 'info', '.', 'Introduction', '.', 'Using', 'latex', 'is', 'pretty', 'easy', 'if', 'you', 'have', 'a', 'sample', 'document', 'you', 'can', 'follow', '.', 'Results', '.', 'Including', 'figures', ',', 'tables', ',', 'and', 'equations', 'is', 'easy', '.', 'Latex', 'also', 'permits', 'easy', 'reference', 'to', 'document', 'elements', '(', 'figures', ',', 'tables', ',', 'sections', ')', 'with', 'the', 'ref', 'command', '.', 'Citations', 'are', 'made', 'with', 'the', '\\\\cite', 'command\\\\cite', ':', 'lamport', '.', 'caption', ':', 'You', 'will', 'need', 'to', 'include', 'the', 'package', 'graphicx', 'to', 'be', 'able', 'to', 'make', 'figures', 'like', 'this', '.', 'label', ':', 'fig1']\n"
          ],
          "name": "stdout"
        }
      ]
    }
  ]
}