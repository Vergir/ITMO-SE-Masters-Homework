{
  "nbformat": 4,
  "nbformat_minor": 0,
  "metadata": {
    "colab": {
      "name": "kovrigina2.ipynb",
      "version": "0.3.2",
      "provenance": []
    },
    "kernelspec": {
      "name": "python3",
      "display_name": "Python 3"
    }
  },
  "cells": [
    {
      "cell_type": "code",
      "metadata": {
        "id": "50bMZqEQklaH",
        "colab_type": "code",
        "colab": {
          "base_uri": "https://localhost:8080/",
          "height": 52
        },
        "outputId": "02618a7b-b94b-4c86-d79b-1103a5b5cfa7"
      },
      "source": [
        "import nltk\n",
        "\n",
        "grammar = nltk.CFG.fromstring(\n",
        "    \"\"\"\n",
        "    S -> NP VP\n",
        "    NP -> N | Det NP\n",
        "    VP -> V NP | V NP VP | V\n",
        "    N -> 'John' | 'duck' | 'her'\n",
        "    V -> 'saw' | 'duck'\n",
        "    Det -> 'her'\n",
        "    \"\"\"\n",
        ")\n",
        "\n",
        "str = \"John saw her duck\"\n",
        "sent = str.split(' ')\n",
        "parser = nltk.ChartParser(grammar)\n",
        "for tree in parser.parse(sent):\n",
        "    print(tree)"
      ],
      "execution_count": 10,
      "outputs": [
        {
          "output_type": "stream",
          "text": [
            "(S (NP (N John)) (VP (V saw) (NP (N her)) (VP (V duck))))\n",
            "(S (NP (N John)) (VP (V saw) (NP (Det her) (NP (N duck)))))\n"
          ],
          "name": "stdout"
        }
      ]
    }
  ]
}